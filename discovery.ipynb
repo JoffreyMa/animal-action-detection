{
 "cells": [
  {
   "cell_type": "markdown",
   "metadata": {},
   "source": [
    "# Animal Action Detection\n",
    "\n",
    "L'objectif est de voir ce qui est faisable pour la reconnaissance d'action d'animaux sur une vidéo. \n",
    "\n",
    "- Quelles actions ?\n",
    "- Quelles espèces ?\n",
    "- Quels types de vidéos ?\n",
    "- Quelle fréquence ?\n",
    "- Qu'est-ce qui est déjà possible ?\n",
    "- Dans quelles conditions ? Est-ce que l'animal est seul, dans un environnement fixe.\n",
    "- Quels technos ?"
   ]
  },
  {
   "cell_type": "code",
   "execution_count": null,
   "metadata": {},
   "outputs": [],
   "source": []
  }
 ],
 "metadata": {
  "language_info": {
   "name": "python"
  }
 },
 "nbformat": 4,
 "nbformat_minor": 2
}
